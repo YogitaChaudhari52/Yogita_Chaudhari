{
  "nbformat": 4,
  "nbformat_minor": 0,
  "metadata": {
    "colab": {
      "name": "CNN and VGG.ipynb",
      "provenance": [],
      "collapsed_sections": [],
      "include_colab_link": true
    },
    "kernelspec": {
      "name": "python3",
      "display_name": "Python 3"
    },
    "accelerator": "GPU"
  },
  "cells": [
    {
      "cell_type": "markdown",
      "metadata": {
        "id": "view-in-github",
        "colab_type": "text"
      },
      "source": [
        "<a href=\"https://colab.research.google.com/github/YogitaChaudhari52/Yogita_Chaudhari/blob/main/CNN_and_VGG.ipynb\" target=\"_parent\"><img src=\"https://colab.research.google.com/assets/colab-badge.svg\" alt=\"Open In Colab\"/></a>"
      ]
    },
    {
      "cell_type": "markdown",
      "metadata": {
        "id": "FrqbZzyNfcyp"
      },
      "source": [
        "## Malaria Parasite Detection Using CNN"
      ]
    },
    {
      "cell_type": "code",
      "metadata": {
        "id": "PRd7-zjwfQPI",
        "colab": {
          "base_uri": "https://localhost:8080/",
          "height": 719
        },
        "outputId": "9a5b7b7a-70d3-4a1b-81b8-faf3a5876341"
      },
      "source": [
        "!pip install tensorflow-gpu==2.0.0-rc0"
      ],
      "execution_count": 3,
      "outputs": [
        {
          "output_type": "stream",
          "text": [
            "Collecting tensorflow-gpu==2.0.0-rc0\n",
            "  Downloading tensorflow_gpu-2.0.0rc0-cp37-cp37m-manylinux2010_x86_64.whl (380.5 MB)\n",
            "\u001b[K     |████████████████████████████████| 380.5 MB 36 kB/s \n",
            "\u001b[?25hCollecting tb-nightly<1.15.0a20190807,>=1.15.0a20190806\n",
            "  Downloading tb_nightly-1.15.0a20190806-py3-none-any.whl (4.3 MB)\n",
            "\u001b[K     |████████████████████████████████| 4.3 MB 42.4 MB/s \n",
            "\u001b[?25hRequirement already satisfied: wrapt>=1.11.1 in /usr/local/lib/python3.7/dist-packages (from tensorflow-gpu==2.0.0-rc0) (1.12.1)\n",
            "Requirement already satisfied: protobuf>=3.6.1 in /usr/local/lib/python3.7/dist-packages (from tensorflow-gpu==2.0.0-rc0) (3.17.3)\n",
            "Requirement already satisfied: wheel>=0.26 in /usr/local/lib/python3.7/dist-packages (from tensorflow-gpu==2.0.0-rc0) (0.36.2)\n",
            "Requirement already satisfied: keras-preprocessing>=1.0.5 in /usr/local/lib/python3.7/dist-packages (from tensorflow-gpu==2.0.0-rc0) (1.1.2)\n",
            "Requirement already satisfied: absl-py>=0.7.0 in /usr/local/lib/python3.7/dist-packages (from tensorflow-gpu==2.0.0-rc0) (0.12.0)\n",
            "Requirement already satisfied: termcolor>=1.1.0 in /usr/local/lib/python3.7/dist-packages (from tensorflow-gpu==2.0.0-rc0) (1.1.0)\n",
            "Requirement already satisfied: astor>=0.6.0 in /usr/local/lib/python3.7/dist-packages (from tensorflow-gpu==2.0.0-rc0) (0.8.1)\n",
            "Requirement already satisfied: grpcio>=1.8.6 in /usr/local/lib/python3.7/dist-packages (from tensorflow-gpu==2.0.0-rc0) (1.34.1)\n",
            "Requirement already satisfied: six>=1.10.0 in /usr/local/lib/python3.7/dist-packages (from tensorflow-gpu==2.0.0-rc0) (1.15.0)\n",
            "Collecting tf-estimator-nightly<1.14.0.dev2019080602,>=1.14.0.dev2019080601\n",
            "  Downloading tf_estimator_nightly-1.14.0.dev2019080601-py2.py3-none-any.whl (501 kB)\n",
            "\u001b[K     |████████████████████████████████| 501 kB 66.1 MB/s \n",
            "\u001b[?25hRequirement already satisfied: gast>=0.2.0 in /usr/local/lib/python3.7/dist-packages (from tensorflow-gpu==2.0.0-rc0) (0.4.0)\n",
            "Requirement already satisfied: google-pasta>=0.1.6 in /usr/local/lib/python3.7/dist-packages (from tensorflow-gpu==2.0.0-rc0) (0.2.0)\n",
            "Collecting keras-applications>=1.0.8\n",
            "  Downloading Keras_Applications-1.0.8-py3-none-any.whl (50 kB)\n",
            "\u001b[K     |████████████████████████████████| 50 kB 9.4 MB/s \n",
            "\u001b[?25hRequirement already satisfied: opt-einsum>=2.3.2 in /usr/local/lib/python3.7/dist-packages (from tensorflow-gpu==2.0.0-rc0) (3.3.0)\n",
            "Requirement already satisfied: numpy<2.0,>=1.16.0 in /usr/local/lib/python3.7/dist-packages (from tensorflow-gpu==2.0.0-rc0) (1.19.5)\n",
            "Requirement already satisfied: h5py in /usr/local/lib/python3.7/dist-packages (from keras-applications>=1.0.8->tensorflow-gpu==2.0.0-rc0) (3.1.0)\n",
            "Requirement already satisfied: setuptools>=41.0.0 in /usr/local/lib/python3.7/dist-packages (from tb-nightly<1.15.0a20190807,>=1.15.0a20190806->tensorflow-gpu==2.0.0-rc0) (57.2.0)\n",
            "Requirement already satisfied: markdown>=2.6.8 in /usr/local/lib/python3.7/dist-packages (from tb-nightly<1.15.0a20190807,>=1.15.0a20190806->tensorflow-gpu==2.0.0-rc0) (3.3.4)\n",
            "Requirement already satisfied: werkzeug>=0.11.15 in /usr/local/lib/python3.7/dist-packages (from tb-nightly<1.15.0a20190807,>=1.15.0a20190806->tensorflow-gpu==2.0.0-rc0) (1.0.1)\n",
            "Requirement already satisfied: importlib-metadata in /usr/local/lib/python3.7/dist-packages (from markdown>=2.6.8->tb-nightly<1.15.0a20190807,>=1.15.0a20190806->tensorflow-gpu==2.0.0-rc0) (4.6.1)\n",
            "Requirement already satisfied: cached-property in /usr/local/lib/python3.7/dist-packages (from h5py->keras-applications>=1.0.8->tensorflow-gpu==2.0.0-rc0) (1.5.2)\n",
            "Requirement already satisfied: zipp>=0.5 in /usr/local/lib/python3.7/dist-packages (from importlib-metadata->markdown>=2.6.8->tb-nightly<1.15.0a20190807,>=1.15.0a20190806->tensorflow-gpu==2.0.0-rc0) (3.5.0)\n",
            "Requirement already satisfied: typing-extensions>=3.6.4 in /usr/local/lib/python3.7/dist-packages (from importlib-metadata->markdown>=2.6.8->tb-nightly<1.15.0a20190807,>=1.15.0a20190806->tensorflow-gpu==2.0.0-rc0) (3.7.4.3)\n",
            "Installing collected packages: tf-estimator-nightly, tb-nightly, keras-applications, tensorflow-gpu\n",
            "Successfully installed keras-applications-1.0.8 tb-nightly-1.15.0a20190806 tensorflow-gpu-2.0.0rc0 tf-estimator-nightly-1.14.0.dev2019080601\n"
          ],
          "name": "stdout"
        },
        {
          "output_type": "display_data",
          "data": {
            "application/vnd.colab-display-data+json": {
              "pip_warning": {
                "packages": [
                  "tensorboard",
                  "tensorflow"
                ]
              }
            }
          },
          "metadata": {
            "tags": []
          }
        }
      ]
    },
    {
      "cell_type": "code",
      "metadata": {
        "id": "IP69j-fjftKz",
        "colab": {
          "base_uri": "https://localhost:8080/"
        },
        "outputId": "ee9b1c4a-ec58-4343-de78-761974ad6678"
      },
      "source": [
        "import tensorflow as tf\n",
        "from tensorflow.keras import Sequential\n",
        "from tensorflow.keras.layers import Flatten, Dense, Conv2D, MaxPool2D, Dropout\n",
        "\n",
        "from tensorflow.keras.preprocessing.image import ImageDataGenerator\n",
        "\n",
        "print(tf.__version__)"
      ],
      "execution_count": 4,
      "outputs": [
        {
          "output_type": "stream",
          "text": [
            "2.5.0\n"
          ],
          "name": "stdout"
        }
      ]
    },
    {
      "cell_type": "code",
      "metadata": {
        "id": "n6_k7gqOgNYQ"
      },
      "source": [
        "import numpy as np\n",
        "import matplotlib.pyplot as plt"
      ],
      "execution_count": 5,
      "outputs": []
    },
    {
      "cell_type": "code",
      "metadata": {
        "id": "BowRCrCWiPQT",
        "colab": {
          "base_uri": "https://localhost:8080/"
        },
        "outputId": "3fb3b99e-aedf-4e6c-c3d5-82f01ffd1bd6"
      },
      "source": [
        "!git clone https://github.com/YogitaChaudhari52/Malaria-Detection-Using-Maching-Learning.git"
      ],
      "execution_count": 4,
      "outputs": [
        {
          "output_type": "stream",
          "text": [
            "Cloning into 'Malaria-Detection-Using-Maching-Learning'...\n",
            "remote: Enumerating objects: 27619, done.\u001b[K\n",
            "remote: Counting objects: 100% (50/50), done.\u001b[K\n",
            "remote: Compressing objects: 100% (35/35), done.\u001b[K\n",
            "remote: Total 27619 (delta 13), reused 50 (delta 13), pack-reused 27569\u001b[K\n",
            "Receiving objects: 100% (27619/27619), 332.66 MiB | 23.52 MiB/s, done.\n",
            "Resolving deltas: 100% (13/13), done.\n",
            "Checking out files: 100% (27562/27562), done.\n"
          ],
          "name": "stdout"
        }
      ]
    },
    {
      "cell_type": "code",
      "metadata": {
        "id": "LMKkyU4jiPTl"
      },
      "source": [
        "img_width = 244\n",
        "img_height = 244"
      ],
      "execution_count": 8,
      "outputs": []
    },
    {
      "cell_type": "code",
      "metadata": {
        "id": "sHyJJ5quiPWX"
      },
      "source": [
        "datagen = ImageDataGenerator(rescale=1/255.0, validation_split=0.2)"
      ],
      "execution_count": 8,
      "outputs": []
    },
    {
      "cell_type": "code",
      "metadata": {
        "id": "6SdOmHeSzHMh",
        "colab": {
          "base_uri": "https://localhost:8080/"
        },
        "outputId": "eb815891-015c-4b4d-fdcc-ac2eaf828979"
      },
      "source": [
        "train_data_generator = datagen.flow_from_directory(directory='/content/Malaria-Detection-Using-Maching-Learning/cell_images',\n",
        "                                                   target_size = (img_width, img_height),\n",
        "                                                   class_mode = 'binary',\n",
        "                                                   batch_size = 16,\n",
        "                                                   subset = 'training'\n",
        "                                                   )"
      ],
      "execution_count": 9,
      "outputs": [
        {
          "output_type": "stream",
          "text": [
            "Found 22048 images belonging to 2 classes.\n"
          ],
          "name": "stdout"
        }
      ]
    },
    {
      "cell_type": "code",
      "metadata": {
        "id": "254F-VJszHPz",
        "colab": {
          "base_uri": "https://localhost:8080/"
        },
        "outputId": "7dae984f-6d94-4820-94da-dfac6a19e233"
      },
      "source": [
        "validation_data_generator = datagen.flow_from_directory(directory='/content/Malaria-Detection-Using-Maching-Learning/cell_images',\n",
        "                                                   target_size = (img_width, img_height),\n",
        "                                                   class_mode = 'binary',\n",
        "                                                   batch_size = 16,\n",
        "                                                   subset = 'validation'\n",
        "                                                   )"
      ],
      "execution_count": 10,
      "outputs": [
        {
          "output_type": "stream",
          "text": [
            "Found 5510 images belonging to 2 classes.\n"
          ],
          "name": "stdout"
        }
      ]
    },
    {
      "cell_type": "code",
      "metadata": {
        "id": "AG-yTDwtzHaP",
        "colab": {
          "base_uri": "https://localhost:8080/"
        },
        "outputId": "c38ca491-38db-4eb5-a3d0-a0e5e35079af"
      },
      "source": [
        "train_data_generator.labels"
      ],
      "execution_count": 11,
      "outputs": [
        {
          "output_type": "execute_result",
          "data": {
            "text/plain": [
              "array([0, 0, 0, ..., 1, 1, 1], dtype=int32)"
            ]
          },
          "metadata": {
            "tags": []
          },
          "execution_count": 11
        }
      ]
    },
    {
      "cell_type": "markdown",
      "metadata": {
        "id": "DWNbV9na5v7r"
      },
      "source": [
        "## CNN Model Building"
      ]
    },
    {
      "cell_type": "code",
      "metadata": {
        "id": "ib5yNUESzHgH"
      },
      "source": [
        "model = Sequential()\n",
        "\n",
        "model.add(Conv2D(16, (3,3), input_shape = (img_width, img_height, 3), activation='relu'))\n",
        "model.add(MaxPool2D(2,2))\n",
        "model.add(Dropout(0.2))\n",
        "\n",
        "model.add(Conv2D(32, (3,3), activation='relu'))\n",
        "model.add(MaxPool2D(2,2))\n",
        "model.add(Dropout(0.3))\n",
        "\n",
        "model.add(Flatten())\n",
        "model.add(Dense(64, activation='relu'))\n",
        "model.add(Dropout(0.5))\n",
        "\n",
        "model.add(Dense(1, activation='sigmoid'))"
      ],
      "execution_count": 12,
      "outputs": []
    },
    {
      "cell_type": "code",
      "metadata": {
        "id": "0jBf7QUyzHjV",
        "colab": {
          "base_uri": "https://localhost:8080/"
        },
        "outputId": "7d59a312-8857-4e11-a194-716b3678307c"
      },
      "source": [
        "model.summary()"
      ],
      "execution_count": 13,
      "outputs": [
        {
          "output_type": "stream",
          "text": [
            "Model: \"sequential\"\n",
            "_________________________________________________________________\n",
            "Layer (type)                 Output Shape              Param #   \n",
            "=================================================================\n",
            "conv2d (Conv2D)              (None, 242, 242, 16)      448       \n",
            "_________________________________________________________________\n",
            "max_pooling2d (MaxPooling2D) (None, 121, 121, 16)      0         \n",
            "_________________________________________________________________\n",
            "dropout (Dropout)            (None, 121, 121, 16)      0         \n",
            "_________________________________________________________________\n",
            "conv2d_1 (Conv2D)            (None, 119, 119, 32)      4640      \n",
            "_________________________________________________________________\n",
            "max_pooling2d_1 (MaxPooling2 (None, 59, 59, 32)        0         \n",
            "_________________________________________________________________\n",
            "dropout_1 (Dropout)          (None, 59, 59, 32)        0         \n",
            "_________________________________________________________________\n",
            "flatten (Flatten)            (None, 111392)            0         \n",
            "_________________________________________________________________\n",
            "dense (Dense)                (None, 64)                7129152   \n",
            "_________________________________________________________________\n",
            "dropout_2 (Dropout)          (None, 64)                0         \n",
            "_________________________________________________________________\n",
            "dense_1 (Dense)              (None, 1)                 65        \n",
            "=================================================================\n",
            "Total params: 7,134,305\n",
            "Trainable params: 7,134,305\n",
            "Non-trainable params: 0\n",
            "_________________________________________________________________\n"
          ],
          "name": "stdout"
        }
      ]
    },
    {
      "cell_type": "code",
      "metadata": {
        "id": "CFI_j2lTzHmE"
      },
      "source": [
        "model.compile(optimizer='adam', loss='binary_crossentropy', metrics = ['accuracy'])"
      ],
      "execution_count": 14,
      "outputs": []
    },
    {
      "cell_type": "code",
      "metadata": {
        "id": "aAc-JsA9zHqY",
        "colab": {
          "base_uri": "https://localhost:8080/"
        },
        "outputId": "6a8a290c-9d1d-47ee-d1c9-c039ce1e0dfe"
      },
      "source": [
        "history = model.fit_generator(generator=train_data_generator,\n",
        "                              steps_per_epoch = len(train_data_generator),\n",
        "                              epochs = 5,\n",
        "                              validation_data = validation_data_generator,\n",
        "                              validation_steps = len(validation_data_generator))"
      ],
      "execution_count": 15,
      "outputs": [
        {
          "output_type": "stream",
          "text": [
            "Epoch 1/5\n",
            "WARNING:tensorflow:From /usr/local/lib/python3.7/dist-packages/tensorflow_core/python/ops/math_grad.py:1394: where (from tensorflow.python.ops.array_ops) is deprecated and will be removed in a future version.\n",
            "Instructions for updating:\n",
            "Use tf.where in 2.0, which has the same broadcast rule as np.where\n",
            "1378/1378 [==============================] - 157s 114ms/step - loss: 0.5658 - accuracy: 0.7064 - val_loss: 0.3302 - val_accuracy: 0.9120\n",
            "Epoch 2/5\n",
            "1378/1378 [==============================] - 154s 112ms/step - loss: 0.2982 - accuracy: 0.9137 - val_loss: 0.3237 - val_accuracy: 0.9258\n",
            "Epoch 3/5\n",
            "1378/1378 [==============================] - 153s 111ms/step - loss: 0.2762 - accuracy: 0.9299 - val_loss: 0.3080 - val_accuracy: 0.9267\n",
            "Epoch 4/5\n",
            "1378/1378 [==============================] - 152s 110ms/step - loss: 0.2492 - accuracy: 0.9349 - val_loss: 0.2991 - val_accuracy: 0.9256\n",
            "Epoch 5/5\n",
            "1378/1378 [==============================] - 152s 110ms/step - loss: 0.2356 - accuracy: 0.9359 - val_loss: 0.3340 - val_accuracy: 0.9211\n"
          ],
          "name": "stdout"
        }
      ]
    },
    {
      "cell_type": "code",
      "metadata": {
        "id": "G4uTlLpEzHto",
        "colab": {
          "base_uri": "https://localhost:8080/"
        },
        "outputId": "64c38dd4-61de-4bf9-d644-e81bc4d825ab"
      },
      "source": [
        "history.history"
      ],
      "execution_count": 16,
      "outputs": [
        {
          "output_type": "execute_result",
          "data": {
            "text/plain": [
              "{'accuracy': [0.70641327, 0.91373366, 0.92988026, 0.9349147, 0.93591255],\n",
              " 'loss': [0.5658328521656107,\n",
              "  0.2981678306186607,\n",
              "  0.2762429123718686,\n",
              "  0.24919486148059855,\n",
              "  0.23557833917351123],\n",
              " 'val_accuracy': [0.91197824, 0.9257713, 0.9266788, 0.92558986, 0.92105263],\n",
              " 'val_loss': [0.3301972543415816,\n",
              "  0.32373712539024974,\n",
              "  0.3079933503345735,\n",
              "  0.29913307837062125,\n",
              "  0.33395537205877296]}"
            ]
          },
          "metadata": {
            "tags": []
          },
          "execution_count": 16
        }
      ]
    },
    {
      "cell_type": "code",
      "metadata": {
        "id": "qjmQySABzHyp"
      },
      "source": [
        "def plot_learningCurve(history, epoch):\n",
        "  # Plot training & validation accuracy values\n",
        "  epoch_range = range(1, epoch+1)\n",
        "  plt.plot(epoch_range, history.history['accuracy'])\n",
        "  plt.plot(epoch_range, history.history['val_accuracy'])\n",
        "  plt.title('Model accuracy')\n",
        "  plt.ylabel('Accuracy')\n",
        "  plt.xlabel('Epoch')\n",
        "  plt.legend(['Train', 'Val'], loc='upper left')\n",
        "  plt.show()\n",
        "\n",
        "  # Plot training & validation loss values\n",
        "  plt.plot(epoch_range, history.history['loss'])\n",
        "  plt.plot(epoch_range, history.history['val_loss'])\n",
        "  plt.title('Model loss')\n",
        "  plt.ylabel('Loss')\n",
        "  plt.xlabel('Epoch')\n",
        "  plt.legend(['Train', 'Val'], loc='upper left')\n",
        "  plt.show()"
      ],
      "execution_count": 17,
      "outputs": []
    },
    {
      "cell_type": "code",
      "metadata": {
        "id": "J743xX1ezH1r",
        "colab": {
          "base_uri": "https://localhost:8080/",
          "height": 572
        },
        "outputId": "42badab5-27de-49d3-dc24-aa44da25d52a"
      },
      "source": [
        "plot_learningCurve(history, 5)"
      ],
      "execution_count": 18,
      "outputs": [
        {
          "output_type": "display_data",
          "data": {
            "image/png": "[encoded data removed]",
            "text/plain": [
              "<Figure size 432x288 with 1 Axes>"
            ]
          },
          "metadata": {
            "tags": [],
            "needs_background": "light"
          }
        },
        {
          "output_type": "display_data",
          "data": {
            "image/png": "[encoded data removed]",
            "text/plain": [
              "<Figure size 432x288 with 1 Axes>"
            ]
          },
          "metadata": {
            "tags": [],
            "needs_background": "light"
          }
        }
      ]
    },
    {
      "cell_type": "markdown",
      "metadata": {
        "id": "UbN4wESZ9NM0"
      },
      "source": [
        "**VGG 16**"
      ]
    },
    {
      "cell_type": "code",
      "metadata": {
        "id": "aQRUHE8KUkSm"
      },
      "source": [
        "import numpy as np # linear algebra\n",
        "import pandas as pd # data processing, CSV file I/O (e.g. pd.read_csv)\n",
        "import matplotlib.pyplot as plt\n",
        "%matplotlib inline\n",
        "import tensorflow as tf\n",
        "from tensorflow import keras\n",
        "from keras.models import Model\n",
        "from keras.applications.vgg19 import VGG19\n",
        "from keras.layers import Dense,Conv2D,MaxPool2D,Flatten\n",
        "from keras.preprocessing import image\n",
        "from keras.preprocessing.image import ImageDataGenerator,load_img\n",
        "from glob import glob\n",
        "import cv2"
      ],
      "execution_count": 1,
      "outputs": []
    },
    {
      "cell_type": "code",
      "metadata": {
        "id": "OF6ZrLHzUoQy"
      },
      "source": [
        "data = ImageDataGenerator(rescale=1/255.0, validation_split=0.2)"
      ],
      "execution_count": 2,
      "outputs": []
    },
    {
      "cell_type": "code",
      "metadata": {
        "colab": {
          "base_uri": "https://localhost:8080/"
        },
        "id": "EQ5woqMnUq6C",
        "outputId": "e10c3402-64f5-43dc-ffbd-9334b8afaa97"
      },
      "source": [
        "# traini_Set with image_size=(224,224),class_mode='binary' and subset='training'\n",
        "train_set=data.flow_from_directory(directory='/content/Malaria-Detection-Using-Maching-Learning/cell_images',                           \n",
        "                                   target_size=(150,150),\n",
        "                                    class_mode='binary',\n",
        "                                    batch_size=20,\n",
        "                                    subset='training')"
      ],
      "execution_count": 5,
      "outputs": [
        {
          "output_type": "stream",
          "text": [
            "Found 22048 images belonging to 2 classes.\n"
          ],
          "name": "stdout"
        }
      ]
    },
    {
      "cell_type": "code",
      "metadata": {
        "colab": {
          "base_uri": "https://localhost:8080/"
        },
        "id": "qutVSnhvUt1v",
        "outputId": "f8637c99-9ca1-443c-d66f-e7aba641e401"
      },
      "source": [
        "# test_set with same features but subset='validation'\n",
        "test_set=data.flow_from_directory(directory='/content/Malaria-Detection-Using-Maching-Learning/cell_images',\n",
        "                                   target_size=(150,150),\n",
        "                                    class_mode='binary',\n",
        "                                    batch_size=20,\n",
        "                                    subset='validation'\n",
        "                                   )"
      ],
      "execution_count": 6,
      "outputs": [
        {
          "output_type": "stream",
          "text": [
            "Found 5510 images belonging to 2 classes.\n"
          ],
          "name": "stdout"
        }
      ]
    },
    {
      "cell_type": "code",
      "metadata": {
        "colab": {
          "base_uri": "https://localhost:8080/"
        },
        "id": "YV2awtiCUzWz",
        "outputId": "6c2ab834-7d0b-40a7-fceb-9b0a894b0785"
      },
      "source": [
        "# weights initialisation from imagenet nad top layer is not included since we have our own categories\n",
        "vgg19=VGG19(input_shape=[150,150,3],weights='imagenet',include_top=False)"
      ],
      "execution_count": 7,
      "outputs": [
        {
          "output_type": "stream",
          "text": [
            "Downloading data from https://storage.googleapis.com/tensorflow/keras-applications/vgg19/vgg19_weights_tf_dim_ordering_tf_kernels_notop.h5\n",
            "80142336/80134624 [==============================] - 1s 0us/step\n",
            "80150528/80134624 [==============================] - 1s 0us/step\n"
          ],
          "name": "stdout"
        }
      ]
    },
    {
      "cell_type": "code",
      "metadata": {
        "id": "640HfWgmU16s"
      },
      "source": [
        "# we don't want to train the vgg19 model layers again\n",
        "for layer in vgg19.layers:\n",
        "    layer.trainable=False"
      ],
      "execution_count": 8,
      "outputs": []
    },
    {
      "cell_type": "code",
      "metadata": {
        "id": "5ZbfauoBU4ji"
      },
      "source": [
        "# adding our own flatten layer\n",
        "x=Flatten()(vgg19.output)\n",
        "# creating a prediction dense layer with activation of softmax after x layer created above\n",
        "prediction=Dense(2,activation='softmax')(x)\n",
        "# model is created with inputs from vgg19 and outputs as our prediction layer\n",
        "model=Model(inputs=vgg19.input,outputs=prediction)"
      ],
      "execution_count": 9,
      "outputs": []
    },
    {
      "cell_type": "code",
      "metadata": {
        "colab": {
          "base_uri": "https://localhost:8080/"
        },
        "id": "IhwrsokiU6wD",
        "outputId": "f0755731-6d3d-4e9d-9deb-13ad4ee6689e"
      },
      "source": [
        "model.summary()"
      ],
      "execution_count": 10,
      "outputs": [
        {
          "output_type": "stream",
          "text": [
            "Model: \"model\"\n",
            "_________________________________________________________________\n",
            "Layer (type)                 Output Shape              Param #   \n",
            "=================================================================\n",
            "input_1 (InputLayer)         [(None, 150, 150, 3)]     0         \n",
            "_________________________________________________________________\n",
            "block1_conv1 (Conv2D)        (None, 150, 150, 64)      1792      \n",
            "_________________________________________________________________\n",
            "block1_conv2 (Conv2D)        (None, 150, 150, 64)      36928     \n",
            "_________________________________________________________________\n",
            "block1_pool (MaxPooling2D)   (None, 75, 75, 64)        0         \n",
            "_________________________________________________________________\n",
            "block2_conv1 (Conv2D)        (None, 75, 75, 128)       73856     \n",
            "_________________________________________________________________\n",
            "block2_conv2 (Conv2D)        (None, 75, 75, 128)       147584    \n",
            "_________________________________________________________________\n",
            "block2_pool (MaxPooling2D)   (None, 37, 37, 128)       0         \n",
            "_________________________________________________________________\n",
            "block3_conv1 (Conv2D)        (None, 37, 37, 256)       295168    \n",
            "_________________________________________________________________\n",
            "block3_conv2 (Conv2D)        (None, 37, 37, 256)       590080    \n",
            "_________________________________________________________________\n",
            "block3_conv3 (Conv2D)        (None, 37, 37, 256)       590080    \n",
            "_________________________________________________________________\n",
            "block3_conv4 (Conv2D)        (None, 37, 37, 256)       590080    \n",
            "_________________________________________________________________\n",
            "block3_pool (MaxPooling2D)   (None, 18, 18, 256)       0         \n",
            "_________________________________________________________________\n",
            "block4_conv1 (Conv2D)        (None, 18, 18, 512)       1180160   \n",
            "_________________________________________________________________\n",
            "block4_conv2 (Conv2D)        (None, 18, 18, 512)       2359808   \n",
            "_________________________________________________________________\n",
            "block4_conv3 (Conv2D)        (None, 18, 18, 512)       2359808   \n",
            "_________________________________________________________________\n",
            "block4_conv4 (Conv2D)        (None, 18, 18, 512)       2359808   \n",
            "_________________________________________________________________\n",
            "block4_pool (MaxPooling2D)   (None, 9, 9, 512)         0         \n",
            "_________________________________________________________________\n",
            "block5_conv1 (Conv2D)        (None, 9, 9, 512)         2359808   \n",
            "_________________________________________________________________\n",
            "block5_conv2 (Conv2D)        (None, 9, 9, 512)         2359808   \n",
            "_________________________________________________________________\n",
            "block5_conv3 (Conv2D)        (None, 9, 9, 512)         2359808   \n",
            "_________________________________________________________________\n",
            "block5_conv4 (Conv2D)        (None, 9, 9, 512)         2359808   \n",
            "_________________________________________________________________\n",
            "block5_pool (MaxPooling2D)   (None, 4, 4, 512)         0         \n",
            "_________________________________________________________________\n",
            "flatten (Flatten)            (None, 8192)              0         \n",
            "_________________________________________________________________\n",
            "dense (Dense)                (None, 2)                 16386     \n",
            "=================================================================\n",
            "Total params: 20,040,770\n",
            "Trainable params: 16,386\n",
            "Non-trainable params: 20,024,384\n",
            "_________________________________________________________________\n"
          ],
          "name": "stdout"
        }
      ]
    },
    {
      "cell_type": "code",
      "metadata": {
        "id": "B481JXm8U99V"
      },
      "source": [
        "# compiling of our customized model\n",
        "model.compile(\n",
        "  loss=keras.losses.SparseCategoricalCrossentropy(from_logits=True),\n",
        "  optimizer='adam',\n",
        "  metrics=['accuracy']\n",
        ")"
      ],
      "execution_count": 11,
      "outputs": []
    },
    {
      "cell_type": "code",
      "metadata": {
        "colab": {
          "base_uri": "https://localhost:8080/"
        },
        "id": "Dd2rSGzaVAnh",
        "outputId": "912b3a4b-b164-43c0-8358-c4ca57e75352"
      },
      "source": [
        "# fitting our training data and saving results in history \n",
        "history = model.fit_generator(generator = train_set,\n",
        "                              validation_data = test_set,\n",
        "                              epochs =15)"
      ],
      "execution_count": 12,
      "outputs": [
        {
          "output_type": "stream",
          "text": [
            "/usr/local/lib/python3.7/dist-packages/keras/engine/training.py:1915: UserWarning: `Model.fit_generator` is deprecated and will be removed in a future version. Please use `Model.fit`, which supports generators.\n",
            "  warnings.warn('`Model.fit_generator` is deprecated and '\n"
          ],
          "name": "stderr"
        },
        {
          "output_type": "stream",
          "text": [
            "Epoch 1/15\n"
          ],
          "name": "stdout"
        },
        {
          "output_type": "stream",
          "text": [
            "/usr/local/lib/python3.7/dist-packages/tensorflow/python/keras/backend.py:4930: UserWarning: \"`sparse_categorical_crossentropy` received `from_logits=True`, but the `output` argument was produced by a sigmoid or softmax activation and thus does not represent logits. Was this intended?\"\n",
            "  '\"`sparse_categorical_crossentropy` received `from_logits=True`, but '\n"
          ],
          "name": "stderr"
        },
        {
          "output_type": "stream",
          "text": [
            "1103/1103 [==============================] - 248s 183ms/step - loss: 0.3609 - accuracy: 0.8342 - val_loss: 0.2809 - val_accuracy: 0.8824\n",
            "Epoch 2/15\n",
            "1103/1103 [==============================] - 198s 180ms/step - loss: 0.2033 - accuracy: 0.9213 - val_loss: 0.2469 - val_accuracy: 0.9020\n",
            "Epoch 3/15\n",
            "1103/1103 [==============================] - 198s 179ms/step - loss: 0.1786 - accuracy: 0.9330 - val_loss: 0.2220 - val_accuracy: 0.9145\n",
            "Epoch 4/15\n",
            "1103/1103 [==============================] - 198s 179ms/step - loss: 0.1701 - accuracy: 0.9361 - val_loss: 0.2076 - val_accuracy: 0.9185\n",
            "Epoch 5/15\n",
            "1103/1103 [==============================] - 198s 179ms/step - loss: 0.1623 - accuracy: 0.9406 - val_loss: 0.2090 - val_accuracy: 0.9220\n",
            "Epoch 6/15\n",
            "1103/1103 [==============================] - 198s 179ms/step - loss: 0.1615 - accuracy: 0.9402 - val_loss: 0.2856 - val_accuracy: 0.8991\n",
            "Epoch 7/15\n",
            "1103/1103 [==============================] - 198s 179ms/step - loss: 0.1531 - accuracy: 0.9425 - val_loss: 0.2134 - val_accuracy: 0.9229\n",
            "Epoch 8/15\n",
            "1103/1103 [==============================] - 198s 179ms/step - loss: 0.1448 - accuracy: 0.9463 - val_loss: 0.2054 - val_accuracy: 0.9250\n",
            "Epoch 9/15\n",
            "1103/1103 [==============================] - 198s 179ms/step - loss: 0.1381 - accuracy: 0.9479 - val_loss: 0.4101 - val_accuracy: 0.8579\n",
            "Epoch 10/15\n",
            "1103/1103 [==============================] - 198s 179ms/step - loss: 0.1361 - accuracy: 0.9494 - val_loss: 0.2536 - val_accuracy: 0.9127\n",
            "Epoch 11/15\n",
            "1103/1103 [==============================] - 197s 179ms/step - loss: 0.1290 - accuracy: 0.9529 - val_loss: 0.2198 - val_accuracy: 0.9200\n",
            "Epoch 12/15\n",
            "1103/1103 [==============================] - 197s 179ms/step - loss: 0.1184 - accuracy: 0.9562 - val_loss: 0.2348 - val_accuracy: 0.9181\n",
            "Epoch 13/15\n",
            "1103/1103 [==============================] - 200s 182ms/step - loss: 0.1078 - accuracy: 0.9590 - val_loss: 0.2408 - val_accuracy: 0.9163\n",
            "Epoch 14/15\n",
            "1103/1103 [==============================] - 202s 183ms/step - loss: 0.1204 - accuracy: 0.9558 - val_loss: 0.2322 - val_accuracy: 0.9209\n",
            "Epoch 15/15\n",
            "1103/1103 [==============================] - 201s 182ms/step - loss: 0.1109 - accuracy: 0.9599 - val_loss: 0.2301 - val_accuracy: 0.9205\n"
          ],
          "name": "stdout"
        }
      ]
    },
    {
      "cell_type": "code",
      "metadata": {
        "colab": {
          "base_uri": "https://localhost:8080/",
          "height": 264
        },
        "id": "kL8XLWdvVEA9",
        "outputId": "7584c4a1-9fe4-4791-ba67-8ae067260be9"
      },
      "source": [
        "plt.plot(history.history['accuracy'],label='train_accuracy')\n",
        "plt.plot(history.history['val_accuracy'],label='test_accuracy')\n",
        "plt.legend()\n",
        "plt.show()"
      ],
      "execution_count": 13,
      "outputs": [
        {
          "output_type": "display_data",
          "data": {
            "image/png": "[encoded data removed]",
            "text/plain": [
              "<Figure size 432x288 with 1 Axes>"
            ]
          },
          "metadata": {
            "tags": [],
            "needs_background": "light"
          }
        }
      ]
    },
    {
      "cell_type": "code",
      "metadata": {
        "id": "BLHMhI69VHXm"
      },
      "source": [
        "# saving our model in a .h5 file\n",
        "from tensorflow.keras.models import load_model\n",
        "model.save('malaria_vgg19.h5')"
      ],
      "execution_count": 14,
      "outputs": []
    },
    {
      "cell_type": "code",
      "metadata": {
        "colab": {
          "base_uri": "https://localhost:8080/"
        },
        "id": "S0cLMEPgVL5d",
        "outputId": "05b98919-eae2-4d27-e298-96f8f9e2c986"
      },
      "source": [
        "y_pred=model.predict(test_set)\n",
        "y_pred[:10]"
      ],
      "execution_count": 15,
      "outputs": [
        {
          "output_type": "execute_result",
          "data": {
            "text/plain": [
              "array([[5.5972137e-02, 9.4402784e-01],\n",
              "       [9.9943870e-01, 5.6130160e-04],\n",
              "       [3.4372471e-02, 9.6562749e-01],\n",
              "       [1.4484651e-02, 9.8551536e-01],\n",
              "       [7.3726647e-02, 9.2627341e-01],\n",
              "       [4.3776090e-04, 9.9956220e-01],\n",
              "       [9.9646831e-01, 3.5317035e-03],\n",
              "       [1.0580463e-02, 9.8941958e-01],\n",
              "       [9.7170466e-01, 2.8295280e-02],\n",
              "       [6.2322003e-01, 3.7677994e-01]], dtype=float32)"
            ]
          },
          "metadata": {
            "tags": []
          },
          "execution_count": 15
        }
      ]
    },
    {
      "cell_type": "code",
      "metadata": {
        "colab": {
          "base_uri": "https://localhost:8080/"
        },
        "id": "LPt9PnjYVPcI",
        "outputId": "5373ec0b-c6e5-46c8-bc68-18686f1abbcb"
      },
      "source": [
        "predictions=np.argmax(y_pred,axis=1)\n",
        "predictions[:10]"
      ],
      "execution_count": 16,
      "outputs": [
        {
          "output_type": "execute_result",
          "data": {
            "text/plain": [
              "array([1, 0, 1, 1, 1, 1, 0, 1, 0, 0])"
            ]
          },
          "metadata": {
            "tags": []
          },
          "execution_count": 16
        }
      ]
    }
  ]
}