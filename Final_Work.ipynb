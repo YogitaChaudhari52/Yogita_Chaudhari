{
  "nbformat": 4,
  "nbformat_minor": 0,
  "metadata": {
    "colab": {
      "name": "Final_Work.ipynb",
      "provenance": [],
      "collapsed_sections": [],
      "authorship_tag": "ABX9TyMkwD+mF9+jtG98us0lNWS/",
      "include_colab_link": true
    },
    "kernelspec": {
      "name": "python3",
      "display_name": "Python 3"
    },
    "language_info": {
      "name": "python"
    }
  },
  "cells": [
    {
      "cell_type": "markdown",
      "metadata": {
        "id": "view-in-github",
        "colab_type": "text"
      },
      "source": [
        "<a href=\"https://colab.research.google.com/github/YogitaChaudhari52/Yogita_Chaudhari/blob/main/Final_Work.ipynb\" target=\"_parent\"><img src=\"https://colab.research.google.com/assets/colab-badge.svg\" alt=\"Open In Colab\"/></a>"
      ]
    },
    {
      "cell_type": "markdown",
      "metadata": {
        "id": "9KO5h_WbzJ_b"
      },
      "source": [
        "Malaria Detection using machine learning"
      ]
    },
    {
      "cell_type": "code",
      "metadata": {
        "id": "qcHaOXgRy4-U"
      },
      "source": [
        "import numpy as np # linear algebra\n",
        "import pandas as pd # data processing, CSV file I/O (e.g. pd.read_csv)\n",
        "import matplotlib.pyplot as plt\n",
        "%matplotlib inline\n",
        "import tensorflow as tf\n",
        "from tensorflow import keras\n",
        "from keras.models import Model\n",
        "from keras.applications.vgg19 import VGG19\n",
        "from keras.layers import Dense,Conv2D,MaxPool2D,Flatten\n",
        "from keras.preprocessing import image\n",
        "from keras.preprocessing.image import ImageDataGenerator,load_img\n",
        "from glob import glob\n",
        "import cv2"
      ],
      "execution_count": 1,
      "outputs": []
    },
    {
      "cell_type": "code",
      "metadata": {
        "colab": {
          "base_uri": "https://localhost:8080/"
        },
        "id": "uj0uO1qnTvVv",
        "outputId": "692a8472-e0aa-418e-a28c-205f0dccdb2b"
      },
      "source": [
        "!git clone https://github.com/YogitaChaudhari52/Malaria-Detection-Using-Maching-Learning.git"
      ],
      "execution_count": 34,
      "outputs": [
        {
          "output_type": "stream",
          "text": [
            "fatal: destination path 'Malaria-Detection-Using-Maching-Learning' already exists and is not an empty directory.\n"
          ],
          "name": "stdout"
        }
      ]
    },
    {
      "cell_type": "code",
      "metadata": {
        "id": "hoe4_CuUUzlk"
      },
      "source": [
        "# using ImageDataGenerator to rescale all images and spliiting with 80% train and 20% validation\n",
        "data = ImageDataGenerator(rescale=1/255.0, validation_split=0.2)"
      ],
      "execution_count": 3,
      "outputs": []
    },
    {
      "cell_type": "code",
      "metadata": {
        "colab": {
          "base_uri": "https://localhost:8080/"
        },
        "id": "HgiwYag2U2f5",
        "outputId": "98f9fd16-fbb7-4815-ec68-d5074ceb92db"
      },
      "source": [
        "# traini_Set with image_size=(224,224),class_mode='binary' and subset='training'\n",
        "train_set=data.flow_from_directory(directory='/content/Malaria-Detection-Using-Maching-Learning/cell_images',                           \n",
        "                                   target_size=(224,224),\n",
        "                                    class_mode='binary',\n",
        "                                    batch_size=32,\n",
        "                                    subset='training'\n",
        "                                   )"
      ],
      "execution_count": 4,
      "outputs": [
        {
          "output_type": "stream",
          "text": [
            "Found 16 images belonging to 2 classes.\n"
          ],
          "name": "stdout"
        }
      ]
    },
    {
      "cell_type": "code",
      "metadata": {
        "colab": {
          "base_uri": "https://localhost:8080/"
        },
        "id": "Dqbw8QzHU-uf",
        "outputId": "1dbc19bb-c6f6-4aca-b114-7770f8142b85"
      },
      "source": [
        "# test_set with same features but subset='validation'\n",
        "test_set=data.flow_from_directory(directory='/content/Malaria-Detection-Using-Maching-Learning/cell_images',\n",
        "                                   target_size=(224,224),\n",
        "                                    class_mode='binary',\n",
        "                                    batch_size=32,\n",
        "                                    subset='validation'\n",
        "                                   )"
      ],
      "execution_count": 5,
      "outputs": [
        {
          "output_type": "stream",
          "text": [
            "Found 4 images belonging to 2 classes.\n"
          ],
          "name": "stdout"
        }
      ]
    },
    {
      "cell_type": "markdown",
      "metadata": {
        "id": "YLgLuBSMVQKK"
      },
      "source": [
        "VGG Model"
      ]
    },
    {
      "cell_type": "code",
      "metadata": {
        "colab": {
          "base_uri": "https://localhost:8080/"
        },
        "id": "DC_8OuxcVF8m",
        "outputId": "50af4a4b-ebb5-44f5-ecd1-5903e23173ca"
      },
      "source": [
        "# weights initialisation from imagenet nad top layer is not included since we have our own categories\n",
        "vgg19=VGG19(input_shape=[224,224,3],weights='imagenet',include_top=False)"
      ],
      "execution_count": 6,
      "outputs": [
        {
          "output_type": "stream",
          "text": [
            "Downloading data from https://storage.googleapis.com/tensorflow/keras-applications/vgg19/vgg19_weights_tf_dim_ordering_tf_kernels_notop.h5\n",
            "80142336/80134624 [==============================] - 1s 0us/step\n",
            "80150528/80134624 [==============================] - 1s 0us/step\n"
          ],
          "name": "stdout"
        }
      ]
    },
    {
      "cell_type": "code",
      "metadata": {
        "id": "UOxlJA2JVKU3"
      },
      "source": [
        "# we don't want to train the vgg19 model layers again\n",
        "for layer in vgg19.layers:\n",
        "    layer.trainable=False"
      ],
      "execution_count": 7,
      "outputs": []
    },
    {
      "cell_type": "code",
      "metadata": {
        "id": "ymW3FU8HVNnQ"
      },
      "source": [
        "# adding our own flatten layer\n",
        "x=Flatten()(vgg19.output)\n",
        "# creating a prediction dense layer with activation of softmax after x layer created above\n",
        "prediction=Dense(2,activation='softmax')(x)\n",
        "# model is created with inputs from vgg19 and outputs as our prediction layer\n",
        "model=Model(inputs=vgg19.input,outputs=prediction)"
      ],
      "execution_count": 8,
      "outputs": []
    },
    {
      "cell_type": "code",
      "metadata": {
        "colab": {
          "base_uri": "https://localhost:8080/"
        },
        "id": "7GQD4NPeWveV",
        "outputId": "ee82b54d-8391-4bc1-b14d-1e06b390ead0"
      },
      "source": [
        "model.summary()"
      ],
      "execution_count": 9,
      "outputs": [
        {
          "output_type": "stream",
          "text": [
            "Model: \"model\"\n",
            "_________________________________________________________________\n",
            "Layer (type)                 Output Shape              Param #   \n",
            "=================================================================\n",
            "input_1 (InputLayer)         [(None, 224, 224, 3)]     0         \n",
            "_________________________________________________________________\n",
            "block1_conv1 (Conv2D)        (None, 224, 224, 64)      1792      \n",
            "_________________________________________________________________\n",
            "block1_conv2 (Conv2D)        (None, 224, 224, 64)      36928     \n",
            "_________________________________________________________________\n",
            "block1_pool (MaxPooling2D)   (None, 112, 112, 64)      0         \n",
            "_________________________________________________________________\n",
            "block2_conv1 (Conv2D)        (None, 112, 112, 128)     73856     \n",
            "_________________________________________________________________\n",
            "block2_conv2 (Conv2D)        (None, 112, 112, 128)     147584    \n",
            "_________________________________________________________________\n",
            "block2_pool (MaxPooling2D)   (None, 56, 56, 128)       0         \n",
            "_________________________________________________________________\n",
            "block3_conv1 (Conv2D)        (None, 56, 56, 256)       295168    \n",
            "_________________________________________________________________\n",
            "block3_conv2 (Conv2D)        (None, 56, 56, 256)       590080    \n",
            "_________________________________________________________________\n",
            "block3_conv3 (Conv2D)        (None, 56, 56, 256)       590080    \n",
            "_________________________________________________________________\n",
            "block3_conv4 (Conv2D)        (None, 56, 56, 256)       590080    \n",
            "_________________________________________________________________\n",
            "block3_pool (MaxPooling2D)   (None, 28, 28, 256)       0         \n",
            "_________________________________________________________________\n",
            "block4_conv1 (Conv2D)        (None, 28, 28, 512)       1180160   \n",
            "_________________________________________________________________\n",
            "block4_conv2 (Conv2D)        (None, 28, 28, 512)       2359808   \n",
            "_________________________________________________________________\n",
            "block4_conv3 (Conv2D)        (None, 28, 28, 512)       2359808   \n",
            "_________________________________________________________________\n",
            "block4_conv4 (Conv2D)        (None, 28, 28, 512)       2359808   \n",
            "_________________________________________________________________\n",
            "block4_pool (MaxPooling2D)   (None, 14, 14, 512)       0         \n",
            "_________________________________________________________________\n",
            "block5_conv1 (Conv2D)        (None, 14, 14, 512)       2359808   \n",
            "_________________________________________________________________\n",
            "block5_conv2 (Conv2D)        (None, 14, 14, 512)       2359808   \n",
            "_________________________________________________________________\n",
            "block5_conv3 (Conv2D)        (None, 14, 14, 512)       2359808   \n",
            "_________________________________________________________________\n",
            "block5_conv4 (Conv2D)        (None, 14, 14, 512)       2359808   \n",
            "_________________________________________________________________\n",
            "block5_pool (MaxPooling2D)   (None, 7, 7, 512)         0         \n",
            "_________________________________________________________________\n",
            "flatten (Flatten)            (None, 25088)             0         \n",
            "_________________________________________________________________\n",
            "dense (Dense)                (None, 2)                 50178     \n",
            "=================================================================\n",
            "Total params: 20,074,562\n",
            "Trainable params: 50,178\n",
            "Non-trainable params: 20,024,384\n",
            "_________________________________________________________________\n"
          ],
          "name": "stdout"
        }
      ]
    },
    {
      "cell_type": "code",
      "metadata": {
        "id": "C3mGEKhuW0GP"
      },
      "source": [
        "# compiling of our customized model\n",
        "model.compile(\n",
        "  loss=keras.losses.SparseCategoricalCrossentropy(from_logits=True),\n",
        "  optimizer='adam',\n",
        "  metrics=['accuracy']\n",
        ")"
      ],
      "execution_count": 10,
      "outputs": []
    },
    {
      "cell_type": "code",
      "metadata": {
        "colab": {
          "base_uri": "https://localhost:8080/"
        },
        "id": "weCfPCw8W4WR",
        "outputId": "d7727fc2-5c68-40b4-d192-3ea024392f67"
      },
      "source": [
        "# fitting our training data and saving results in history \n",
        "history = model.fit_generator(generator = train_set,\n",
        "                              validation_data = test_set,\n",
        "                              epochs =50)"
      ],
      "execution_count": 24,
      "outputs": [
        {
          "output_type": "stream",
          "text": [
            "/usr/local/lib/python3.7/dist-packages/keras/engine/training.py:1915: UserWarning: `Model.fit_generator` is deprecated and will be removed in a future version. Please use `Model.fit`, which supports generators.\n",
            "  warnings.warn('`Model.fit_generator` is deprecated and '\n"
          ],
          "name": "stderr"
        },
        {
          "output_type": "stream",
          "text": [
            "Epoch 1/50\n",
            "1/1 [==============================] - 13s 13s/step - loss: 0.0012 - accuracy: 1.0000 - val_loss: 0.3502 - val_accuracy: 0.7500\n",
            "Epoch 2/50\n",
            "1/1 [==============================] - 13s 13s/step - loss: 0.0012 - accuracy: 1.0000 - val_loss: 0.3607 - val_accuracy: 0.7500\n",
            "Epoch 3/50\n",
            "1/1 [==============================] - 13s 13s/step - loss: 0.0012 - accuracy: 1.0000 - val_loss: 0.3707 - val_accuracy: 0.7500\n",
            "Epoch 4/50\n",
            "1/1 [==============================] - 13s 13s/step - loss: 0.0011 - accuracy: 1.0000 - val_loss: 0.3802 - val_accuracy: 0.7500\n",
            "Epoch 5/50\n",
            "1/1 [==============================] - 13s 13s/step - loss: 0.0011 - accuracy: 1.0000 - val_loss: 0.3892 - val_accuracy: 0.7500\n",
            "Epoch 6/50\n",
            "1/1 [==============================] - 13s 13s/step - loss: 0.0011 - accuracy: 1.0000 - val_loss: 0.3976 - val_accuracy: 0.7500\n",
            "Epoch 7/50\n",
            "1/1 [==============================] - 13s 13s/step - loss: 0.0011 - accuracy: 1.0000 - val_loss: 0.4053 - val_accuracy: 0.7500\n",
            "Epoch 8/50\n",
            "1/1 [==============================] - 13s 13s/step - loss: 0.0011 - accuracy: 1.0000 - val_loss: 0.4124 - val_accuracy: 0.7500\n",
            "Epoch 9/50\n",
            "1/1 [==============================] - 13s 13s/step - loss: 0.0011 - accuracy: 1.0000 - val_loss: 0.4189 - val_accuracy: 0.7500\n",
            "Epoch 10/50\n",
            "1/1 [==============================] - 13s 13s/step - loss: 0.0011 - accuracy: 1.0000 - val_loss: 0.4247 - val_accuracy: 0.7500\n",
            "Epoch 11/50\n",
            "1/1 [==============================] - 13s 13s/step - loss: 0.0011 - accuracy: 1.0000 - val_loss: 0.4299 - val_accuracy: 0.7500\n",
            "Epoch 12/50\n",
            "1/1 [==============================] - 13s 13s/step - loss: 0.0011 - accuracy: 1.0000 - val_loss: 0.4345 - val_accuracy: 0.7500\n",
            "Epoch 13/50\n",
            "1/1 [==============================] - 13s 13s/step - loss: 0.0011 - accuracy: 1.0000 - val_loss: 0.4385 - val_accuracy: 0.7500\n",
            "Epoch 14/50\n",
            "1/1 [==============================] - 13s 13s/step - loss: 0.0011 - accuracy: 1.0000 - val_loss: 0.4419 - val_accuracy: 0.7500\n",
            "Epoch 15/50\n",
            "1/1 [==============================] - 13s 13s/step - loss: 0.0011 - accuracy: 1.0000 - val_loss: 0.4447 - val_accuracy: 0.7500\n",
            "Epoch 16/50\n",
            "1/1 [==============================] - 13s 13s/step - loss: 0.0011 - accuracy: 1.0000 - val_loss: 0.4470 - val_accuracy: 0.7500\n",
            "Epoch 17/50\n",
            "1/1 [==============================] - 13s 13s/step - loss: 0.0011 - accuracy: 1.0000 - val_loss: 0.4488 - val_accuracy: 0.7500\n",
            "Epoch 18/50\n",
            "1/1 [==============================] - 13s 13s/step - loss: 0.0011 - accuracy: 1.0000 - val_loss: 0.4501 - val_accuracy: 0.7500\n",
            "Epoch 19/50\n",
            "1/1 [==============================] - 13s 13s/step - loss: 0.0011 - accuracy: 1.0000 - val_loss: 0.4509 - val_accuracy: 0.7500\n",
            "Epoch 20/50\n",
            "1/1 [==============================] - 13s 13s/step - loss: 0.0011 - accuracy: 1.0000 - val_loss: 0.4514 - val_accuracy: 0.7500\n",
            "Epoch 21/50\n",
            "1/1 [==============================] - 13s 13s/step - loss: 0.0011 - accuracy: 1.0000 - val_loss: 0.4515 - val_accuracy: 0.7500\n",
            "Epoch 22/50\n",
            "1/1 [==============================] - 13s 13s/step - loss: 0.0011 - accuracy: 1.0000 - val_loss: 0.4512 - val_accuracy: 0.7500\n",
            "Epoch 23/50\n",
            "1/1 [==============================] - 13s 13s/step - loss: 0.0011 - accuracy: 1.0000 - val_loss: 0.4506 - val_accuracy: 0.7500\n",
            "Epoch 24/50\n",
            "1/1 [==============================] - 13s 13s/step - loss: 0.0011 - accuracy: 1.0000 - val_loss: 0.4498 - val_accuracy: 0.7500\n",
            "Epoch 25/50\n",
            "1/1 [==============================] - 13s 13s/step - loss: 0.0011 - accuracy: 1.0000 - val_loss: 0.4487 - val_accuracy: 0.7500\n",
            "Epoch 26/50\n",
            "1/1 [==============================] - 13s 13s/step - loss: 0.0010 - accuracy: 1.0000 - val_loss: 0.4474 - val_accuracy: 0.7500\n",
            "Epoch 27/50\n",
            "1/1 [==============================] - 13s 13s/step - loss: 0.0010 - accuracy: 1.0000 - val_loss: 0.4459 - val_accuracy: 0.7500\n",
            "Epoch 28/50\n",
            "1/1 [==============================] - 13s 13s/step - loss: 0.0010 - accuracy: 1.0000 - val_loss: 0.4443 - val_accuracy: 0.7500\n",
            "Epoch 29/50\n",
            "1/1 [==============================] - 13s 13s/step - loss: 0.0010 - accuracy: 1.0000 - val_loss: 0.4426 - val_accuracy: 0.7500\n",
            "Epoch 30/50\n",
            "1/1 [==============================] - 13s 13s/step - loss: 0.0010 - accuracy: 1.0000 - val_loss: 0.4408 - val_accuracy: 0.7500\n",
            "Epoch 31/50\n",
            "1/1 [==============================] - 13s 13s/step - loss: 0.0010 - accuracy: 1.0000 - val_loss: 0.4389 - val_accuracy: 0.7500\n",
            "Epoch 32/50\n",
            "1/1 [==============================] - 13s 13s/step - loss: 0.0010 - accuracy: 1.0000 - val_loss: 0.4369 - val_accuracy: 0.7500\n",
            "Epoch 33/50\n",
            "1/1 [==============================] - 13s 13s/step - loss: 0.0010 - accuracy: 1.0000 - val_loss: 0.4350 - val_accuracy: 0.7500\n",
            "Epoch 34/50\n",
            "1/1 [==============================] - 13s 13s/step - loss: 0.0010 - accuracy: 1.0000 - val_loss: 0.4330 - val_accuracy: 0.7500\n",
            "Epoch 35/50\n",
            "1/1 [==============================] - 13s 13s/step - loss: 0.0010 - accuracy: 1.0000 - val_loss: 0.4311 - val_accuracy: 0.7500\n",
            "Epoch 36/50\n",
            "1/1 [==============================] - 13s 13s/step - loss: 0.0010 - accuracy: 1.0000 - val_loss: 0.4291 - val_accuracy: 0.7500\n",
            "Epoch 37/50\n",
            "1/1 [==============================] - 13s 13s/step - loss: 0.0010 - accuracy: 1.0000 - val_loss: 0.4272 - val_accuracy: 0.7500\n",
            "Epoch 38/50\n",
            "1/1 [==============================] - 13s 13s/step - loss: 0.0010 - accuracy: 1.0000 - val_loss: 0.4254 - val_accuracy: 0.7500\n",
            "Epoch 39/50\n",
            "1/1 [==============================] - 13s 13s/step - loss: 9.9653e-04 - accuracy: 1.0000 - val_loss: 0.4236 - val_accuracy: 0.7500\n",
            "Epoch 40/50\n",
            "1/1 [==============================] - 13s 13s/step - loss: 9.9313e-04 - accuracy: 1.0000 - val_loss: 0.4219 - val_accuracy: 0.7500\n",
            "Epoch 41/50\n",
            "1/1 [==============================] - 13s 13s/step - loss: 9.8985e-04 - accuracy: 1.0000 - val_loss: 0.4202 - val_accuracy: 0.7500\n",
            "Epoch 42/50\n",
            "1/1 [==============================] - 13s 13s/step - loss: 9.8666e-04 - accuracy: 1.0000 - val_loss: 0.4187 - val_accuracy: 0.7500\n",
            "Epoch 43/50\n",
            "1/1 [==============================] - 13s 13s/step - loss: 9.8358e-04 - accuracy: 1.0000 - val_loss: 0.4172 - val_accuracy: 0.7500\n",
            "Epoch 44/50\n",
            "1/1 [==============================] - 13s 13s/step - loss: 9.8057e-04 - accuracy: 1.0000 - val_loss: 0.4158 - val_accuracy: 0.7500\n",
            "Epoch 45/50\n",
            "1/1 [==============================] - 13s 13s/step - loss: 9.7764e-04 - accuracy: 1.0000 - val_loss: 0.4146 - val_accuracy: 0.7500\n",
            "Epoch 46/50\n",
            "1/1 [==============================] - 13s 13s/step - loss: 9.7478e-04 - accuracy: 1.0000 - val_loss: 0.4134 - val_accuracy: 0.7500\n",
            "Epoch 47/50\n",
            "1/1 [==============================] - 13s 13s/step - loss: 9.7198e-04 - accuracy: 1.0000 - val_loss: 0.4123 - val_accuracy: 0.7500\n",
            "Epoch 48/50\n",
            "1/1 [==============================] - 13s 13s/step - loss: 9.6922e-04 - accuracy: 1.0000 - val_loss: 0.4113 - val_accuracy: 0.7500\n",
            "Epoch 49/50\n",
            "1/1 [==============================] - 13s 13s/step - loss: 9.6649e-04 - accuracy: 1.0000 - val_loss: 0.4104 - val_accuracy: 0.7500\n",
            "Epoch 50/50\n",
            "1/1 [==============================] - 13s 13s/step - loss: 9.6384e-04 - accuracy: 1.0000 - val_loss: 0.4096 - val_accuracy: 0.7500\n"
          ],
          "name": "stdout"
        }
      ]
    },
    {
      "cell_type": "code",
      "metadata": {
        "colab": {
          "base_uri": "https://localhost:8080/",
          "height": 265
        },
        "id": "EeTpR3nBXEai",
        "outputId": "eb3040c5-a8d2-4665-cb4a-5abfd84aabec"
      },
      "source": [
        "plt.plot(history.history['accuracy'],label='train_accuracy')\n",
        "plt.plot(history.history['val_accuracy'],label='test_accuracy')\n",
        "plt.legend()\n",
        "plt.show()"
      ],
      "execution_count": 25,
      "outputs": [
        {
          "output_type": "display_data",
          "data": {
            "image/png": "[encoded data removed]",
            "text/plain": [
              "<Figure size 432x288 with 1 Axes>"
            ]
          },
          "metadata": {
            "tags": [],
            "needs_background": "light"
          }
        }
      ]
    },
    {
      "cell_type": "code",
      "metadata": {
        "id": "ydPVu3l9Xvry"
      },
      "source": [
        "# saving our model in a .h5 file\n",
        "from tensorflow.keras.models import load_model\n",
        "model.save('malaria_vgg19.h5')"
      ],
      "execution_count": 21,
      "outputs": []
    },
    {
      "cell_type": "code",
      "metadata": {
        "colab": {
          "base_uri": "https://localhost:8080/"
        },
        "id": "F51dKXPVXyc7",
        "outputId": "26d9f4b7-80a0-45a7-dbe6-a2648dfdbfd9"
      },
      "source": [
        "y_pred=model.predict(test_set)\n",
        "y_pred[:10]"
      ],
      "execution_count": 22,
      "outputs": [
        {
          "output_type": "execute_result",
          "data": {
            "text/plain": [
              "array([[0.01159297, 0.98840696],\n",
              "       [0.03841059, 0.9615894 ],\n",
              "       [0.9583917 , 0.04160834],\n",
              "       [0.28256154, 0.71743846]], dtype=float32)"
            ]
          },
          "metadata": {
            "tags": []
          },
          "execution_count": 22
        }
      ]
    },
    {
      "cell_type": "code",
      "metadata": {
        "colab": {
          "base_uri": "https://localhost:8080/"
        },
        "id": "3-I9aVGSX2Zc",
        "outputId": "cac1bfaa-4d26-4143-d499-8713efb6ff62"
      },
      "source": [
        "predictions=np.argmax(y_pred,axis=1)\n",
        "predictions[:10]"
      ],
      "execution_count": 23,
      "outputs": [
        {
          "output_type": "execute_result",
          "data": {
            "text/plain": [
              "array([1, 1, 0, 1])"
            ]
          },
          "metadata": {
            "tags": []
          },
          "execution_count": 23
        }
      ]
    },
    {
      "cell_type": "markdown",
      "metadata": {
        "id": "EFPdt9eIoE73"
      },
      "source": [
        "Resnet"
      ]
    },
    {
      "cell_type": "code",
      "metadata": {
        "colab": {
          "base_uri": "https://localhost:8080/"
        },
        "id": "Zsfb2jXaoHD5",
        "outputId": "9d304596-fcc9-4aa3-eb35-36edbef23dc3"
      },
      "source": [
        "!apt install tree"
      ],
      "execution_count": 26,
      "outputs": [
        {
          "output_type": "stream",
          "text": [
            "Reading package lists... Done\n",
            "Building dependency tree       \n",
            "Reading state information... Done\n",
            "The following NEW packages will be installed:\n",
            "  tree\n",
            "0 upgraded, 1 newly installed, 0 to remove and 40 not upgraded.\n",
            "Need to get 40.7 kB of archives.\n",
            "After this operation, 105 kB of additional disk space will be used.\n",
            "Get:1 http://archive.ubuntu.com/ubuntu bionic/universe amd64 tree amd64 1.7.0-5 [40.7 kB]\n",
            "Fetched 40.7 kB in 0s (150 kB/s)\n",
            "Selecting previously unselected package tree.\n",
            "(Reading database ... 160837 files and directories currently installed.)\n",
            "Preparing to unpack .../tree_1.7.0-5_amd64.deb ...\n",
            "Unpacking tree (1.7.0-5) ...\n",
            "Setting up tree (1.7.0-5) ...\n",
            "Processing triggers for man-db (2.8.3-2ubuntu0.1) ...\n"
          ],
          "name": "stdout"
        }
      ]
    },
    {
      "cell_type": "code",
      "metadata": {
        "colab": {
          "base_uri": "https://localhost:8080/"
        },
        "id": "ZYP-sfwMoXL6",
        "outputId": "86d488c6-8212-4e1f-9171-5232ee549d1c"
      },
      "source": [
        "!mv cell_images train\n",
        "!mkdir data\n",
        "!mv train data"
      ],
      "execution_count": 29,
      "outputs": [
        {
          "output_type": "stream",
          "text": [
            "mkdir: cannot create directory ‘data’: File exists\n"
          ],
          "name": "stdout"
        }
      ]
    },
    {
      "cell_type": "code",
      "metadata": {
        "id": "UTL9gmg1orqY"
      },
      "source": [
        "from fastai.vision import *\n",
        "from fastai.metrics import error_rate\n",
        "from fastai.callbacks import SaveModelCallback\n",
        "# Imports for diverse utilities\n",
        "from shutil import copyfile\n",
        "import matplotlib.pyplot as plt\n",
        "import operator\n",
        "from PIL import Image\n",
        "from sys import intern   # For the symbol definitions"
      ],
      "execution_count": 31,
      "outputs": []
    }
  ]
}